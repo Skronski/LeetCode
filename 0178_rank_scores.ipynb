{
 "cells": [
  {
   "attachments": {
    "image-2.png": {
     "image/png": "[encoded data removed]"
    },
    "image-3.png": {
     "image/png": "[encoded data removed]"
    },
    "image.png": {
     "image/png": "[encoded data removed]"
    }
   },
   "cell_type": "markdown",
   "metadata": {},
   "source": [
    "# 178. Rank Scores\n",
    "\n",
    "Table: `Scores`  \n",
    "\n",
    "\n",
    "![image.png](attachment:image.png)  \n",
    "\n",
    "id is the primary key (column with unique values) for this table.  \n",
    "Each row of this table contains the score of a game. Score is a floating point value with two decimal places.  \n",
    " \n",
    "\n",
    "Write a solution to find the rank of the scores. The ranking should be calculated according to the following rules:  \n",
    "\n",
    "- The scores should be ranked from the highest to the lowest.    \n",
    "- If there is a tie between two scores, both should have the same ranking.  \n",
    "- After a tie, the next ranking number should be the next consecutive integer value. In other words, there should be no holes between ranks.  \n",
    "Return the result table ordered by `score` in descending order.\n",
    "\n",
    "The result format is in the following example.  \n",
    "\n",
    " \n",
    "\n",
    "**Example 1:**  \n",
    "\n",
    "**Input:**   \n",
    "Scores table:   \n",
    "![image-2.png](attachment:image-2.png)    \n",
    "**Output:**   \n",
    "![image-3.png](attachment:image-3.png)  "
   ]
  },
  {
   "cell_type": "code",
   "execution_count": 64,
   "metadata": {},
   "outputs": [],
   "source": [
    "import pandas as pd\n",
    "\n",
    "def order_scores(scores: pd.DataFrame) -> pd.DataFrame:\n",
    "    scores_ranked = scores.sort_values(by = 'score', ascending=False)['score'].drop_duplicates()\n",
    "    scores_with_ranking = pd.DataFrame({'score': scores_ranked, 'rank': [i for i in range(1,len(scores_ranked)+1)]})\n",
    "    result = pd.DataFrame({'score': scores_ranked})\n",
    "    return pd.merge(scores,scores_with_ranking , on = 'score', how = 'left')[['score', 'rank']].sort_values(by = 'score', ascending=False)"
   ]
  },
  {
   "cell_type": "markdown",
   "metadata": {},
   "source": [
    "# Testing\n"
   ]
  },
  {
   "cell_type": "code",
   "execution_count": 62,
   "metadata": {},
   "outputs": [],
   "source": [
    "scores = pd.DataFrame({'id': [1,2,3,4,5,6,7,8], 'score': [1.2,4.5,4.5,5,7,7,1,8]})"
   ]
  },
  {
   "cell_type": "code",
   "execution_count": 65,
   "metadata": {},
   "outputs": [
    {
     "data": {
      "text/html": [
       "<div>\n",
       "<style scoped>\n",
       "    .dataframe tbody tr th:only-of-type {\n",
       "        vertical-align: middle;\n",
       "    }\n",
       "\n",
       "    .dataframe tbody tr th {\n",
       "        vertical-align: top;\n",
       "    }\n",
       "\n",
       "    .dataframe thead th {\n",
       "        text-align: right;\n",
       "    }\n",
       "</style>\n",
       "<table border=\"1\" class=\"dataframe\">\n",
       "  <thead>\n",
       "    <tr style=\"text-align: right;\">\n",
       "      <th></th>\n",
       "      <th>score</th>\n",
       "      <th>rank</th>\n",
       "    </tr>\n",
       "  </thead>\n",
       "  <tbody>\n",
       "    <tr>\n",
       "      <th>7</th>\n",
       "      <td>8.0</td>\n",
       "      <td>1</td>\n",
       "    </tr>\n",
       "    <tr>\n",
       "      <th>4</th>\n",
       "      <td>7.0</td>\n",
       "      <td>2</td>\n",
       "    </tr>\n",
       "    <tr>\n",
       "      <th>5</th>\n",
       "      <td>7.0</td>\n",
       "      <td>2</td>\n",
       "    </tr>\n",
       "    <tr>\n",
       "      <th>3</th>\n",
       "      <td>5.0</td>\n",
       "      <td>3</td>\n",
       "    </tr>\n",
       "    <tr>\n",
       "      <th>1</th>\n",
       "      <td>4.5</td>\n",
       "      <td>4</td>\n",
       "    </tr>\n",
       "    <tr>\n",
       "      <th>2</th>\n",
       "      <td>4.5</td>\n",
       "      <td>4</td>\n",
       "    </tr>\n",
       "    <tr>\n",
       "      <th>0</th>\n",
       "      <td>1.2</td>\n",
       "      <td>5</td>\n",
       "    </tr>\n",
       "    <tr>\n",
       "      <th>6</th>\n",
       "      <td>1.0</td>\n",
       "      <td>6</td>\n",
       "    </tr>\n",
       "  </tbody>\n",
       "</table>\n",
       "</div>"
      ],
      "text/plain": [
       "   score  rank\n",
       "7    8.0     1\n",
       "4    7.0     2\n",
       "5    7.0     2\n",
       "3    5.0     3\n",
       "1    4.5     4\n",
       "2    4.5     4\n",
       "0    1.2     5\n",
       "6    1.0     6"
      ]
     },
     "execution_count": 65,
     "metadata": {},
     "output_type": "execute_result"
    }
   ],
   "source": [
    "order_scores(scores=scores)"
   ]
  }
 ],
 "metadata": {
  "kernelspec": {
   "display_name": "Python 3",
   "language": "python",
   "name": "python3"
  },
  "language_info": {
   "codemirror_mode": {
    "name": "ipython",
    "version": 3
   },
   "file_extension": ".py",
   "mimetype": "text/x-python",
   "name": "python",
   "nbconvert_exporter": "python",
   "pygments_lexer": "ipython3",
   "version": "3.12.1"
  }
 },
 "nbformat": 4,
 "nbformat_minor": 2
}
