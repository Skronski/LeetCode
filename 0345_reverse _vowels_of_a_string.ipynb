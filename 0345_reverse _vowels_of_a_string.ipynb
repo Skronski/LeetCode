{
 "cells": [
  {
   "cell_type": "code",
   "execution_count": 124,
   "metadata": {},
   "outputs": [],
   "source": [
    "class Solution(object):\n",
    "    def reverseVowels(self, s):\n",
    "        \"\"\"\n",
    "        :type s: str\n",
    "        :rtype: str\n",
    "        \"\"\"\n",
    "        vowels = \"aeiouy\"\n",
    "        # Assuming `s` is the string you're working with and `vowels` is a set of vowels\n",
    "\n",
    "        vowels_dict = {i: s[i] for i in range(len(s)) if s[i] in vowels}\n",
    "        keys = list(vowels_dict.keys())\n",
    "        vowels_reversed = reversed(list(vowels_dict.values()))\n",
    "        vowels_dict_reversed = dict(zip(keys, vowels_reversed))\n",
    "        print(vowels_dict_reversed)\n",
    "        s_output = \"\"\n",
    "        for i in range(len(s)):\n",
    "            if i in vowels_dict_reversed.keys():\n",
    "                s_output += vowels_dict_reversed[i]\n",
    "            else:\n",
    "                s_output += s[i]\n",
    "        return s_output"
   ]
  },
  {
   "cell_type": "code",
   "execution_count": 125,
   "metadata": {},
   "outputs": [],
   "source": [
    "solution = Solution()"
   ]
  },
  {
   "cell_type": "code",
   "execution_count": 126,
   "metadata": {},
   "outputs": [
    {
     "name": "stdout",
     "output_type": "stream",
     "text": [
      "{1: 'a', 3: 'a', 5: 'a', 8: 'e'}\n"
     ]
    }
   ],
   "source": [
    "xd = solution.reverseVowels(\"reca a car\")"
   ]
  },
  {
   "cell_type": "code",
   "execution_count": 127,
   "metadata": {},
   "outputs": [
    {
     "data": {
      "text/plain": [
       "'raca a cer'"
      ]
     },
     "execution_count": 127,
     "metadata": {},
     "output_type": "execute_result"
    }
   ],
   "source": [
    "xd"
   ]
  }
 ],
 "metadata": {
  "kernelspec": {
   "display_name": "Python 3",
   "language": "python",
   "name": "python3"
  },
  "language_info": {
   "codemirror_mode": {
    "name": "ipython",
    "version": 3
   },
   "file_extension": ".py",
   "mimetype": "text/x-python",
   "name": "python",
   "nbconvert_exporter": "python",
   "pygments_lexer": "ipython3",
   "version": "3.9.6"
  }
 },
 "nbformat": 4,
 "nbformat_minor": 2
}
