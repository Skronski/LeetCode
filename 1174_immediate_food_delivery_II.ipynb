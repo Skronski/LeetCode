{
 "cells": [
  {
   "attachments": {
    "image-2.png": {
     "image/png": "[encoded data removed]"
    },
    "image-3.png": {
     "image/png": "[encoded data removed]"
    },
    "image.png": {
     "image/png": "[encoded data removed]"
    }
   },
   "cell_type": "markdown",
   "metadata": {},
   "source": [
    "# 1174 Immediate food delivery 2  \n",
    "Table: `Delivery`   \n",
    "\n",
    "\n",
    "![image.png](attachment:image.png)  \n",
    "delivery_id is the column of unique values of this table.  \n",
    "The table holds information about food delivery to customers that make orders at some date and  \n",
    " specify a preferred delivery date (on the same order date or after it).  \n",
    " \n",
    "\n",
    "If the customer's preferred delivery date is the same as the order date,   \n",
    "then the order is called immediate; otherwise, it is called scheduled.  \n",
    "\n",
    "The **first order** of a customer is the order with the earliest order date that the customer made.  \n",
    " It is guaranteed that a customer has precisely one first order.  \n",
    "  \n",
    "Write a solution to find the percentage of immediate orders   \n",
    "in the first orders of all customers, **rounded to 2 decimal places.**  \n",
    "\n",
    "The result format is in the following example.  \n",
    "  \n",
    "   \n",
    "  \n",
    "**Example 1:**  \n",
    "\n",
    "**Input:**    \n",
    "Delivery table:    \n",
    "  \n",
    "![image-2.png](attachment:image-2.png)    \n",
    "**Output:**   \n",
    "![image-3.png](attachment:image-3.png)  \n",
    "**Explanation:**     \n",
    "The customer id 1 has a first order with delivery id 1 and it is scheduled.  \n",
    "The customer id 2 has a first order with delivery id 2 and it is immediate.  \n",
    "The customer id 3 has a first order with delivery id 5 and it is scheduled.  \n",
    "The customer id 4 has a first order with delivery id 7 and it is immediate.  \n",
    "Hence, half the customers have immediate first orders.  "
   ]
  },
  {
   "cell_type": "code",
   "execution_count": 2,
   "metadata": {},
   "outputs": [
    {
     "name": "stderr",
     "output_type": "stream",
     "text": [
      "C:\\Users\\barte\\AppData\\Local\\Temp\\ipykernel_29088\\3343760669.py:1: DeprecationWarning: \n",
      "Pyarrow will become a required dependency of pandas in the next major release of pandas (pandas 3.0),\n",
      "(to allow more performant data types, such as the Arrow string type, and better interoperability with other libraries)\n",
      "but was not found to be installed on your system.\n",
      "If this would cause problems for you,\n",
      "please provide us feedback at https://github.com/pandas-dev/pandas/issues/54466\n",
      "        \n",
      "  import pandas as pd\n"
     ]
    }
   ],
   "source": [
    "import pandas as pd\n",
    "\n",
    "def immediate_food_delivery(delivery: pd.DataFrame) -> pd.DataFrame:\n",
    "    return 0"
   ]
  },
  {
   "cell_type": "code",
   "execution_count": 9,
   "metadata": {},
   "outputs": [
    {
     "data": {
      "text/html": [
       "<div>\n",
       "<style scoped>\n",
       "    .dataframe tbody tr th:only-of-type {\n",
       "        vertical-align: middle;\n",
       "    }\n",
       "\n",
       "    .dataframe tbody tr th {\n",
       "        vertical-align: top;\n",
       "    }\n",
       "\n",
       "    .dataframe thead th {\n",
       "        text-align: right;\n",
       "    }\n",
       "</style>\n",
       "<table border=\"1\" class=\"dataframe\">\n",
       "  <thead>\n",
       "    <tr style=\"text-align: right;\">\n",
       "      <th></th>\n",
       "      <th>delivery_id</th>\n",
       "      <th>customer_id</th>\n",
       "      <th>order_date</th>\n",
       "      <th>customer_pref_delivery_date</th>\n",
       "    </tr>\n",
       "  </thead>\n",
       "  <tbody>\n",
       "    <tr>\n",
       "      <th>0</th>\n",
       "      <td>1</td>\n",
       "      <td>1</td>\n",
       "      <td>2019-08-01</td>\n",
       "      <td>2019-08-02</td>\n",
       "    </tr>\n",
       "    <tr>\n",
       "      <th>1</th>\n",
       "      <td>2</td>\n",
       "      <td>2</td>\n",
       "      <td>2019-08-02</td>\n",
       "      <td>2019-08-02</td>\n",
       "    </tr>\n",
       "    <tr>\n",
       "      <th>2</th>\n",
       "      <td>3</td>\n",
       "      <td>1</td>\n",
       "      <td>2019-08-11</td>\n",
       "      <td>2019-08-12</td>\n",
       "    </tr>\n",
       "    <tr>\n",
       "      <th>3</th>\n",
       "      <td>4</td>\n",
       "      <td>3</td>\n",
       "      <td>2019-08-24</td>\n",
       "      <td>2019-08-24</td>\n",
       "    </tr>\n",
       "    <tr>\n",
       "      <th>4</th>\n",
       "      <td>5</td>\n",
       "      <td>3</td>\n",
       "      <td>2019-08-21</td>\n",
       "      <td>2019-08-22</td>\n",
       "    </tr>\n",
       "    <tr>\n",
       "      <th>5</th>\n",
       "      <td>6</td>\n",
       "      <td>2</td>\n",
       "      <td>2019-08-11</td>\n",
       "      <td>2019-08-13</td>\n",
       "    </tr>\n",
       "    <tr>\n",
       "      <th>6</th>\n",
       "      <td>7</td>\n",
       "      <td>4</td>\n",
       "      <td>2019-08-09</td>\n",
       "      <td>2019-08-09</td>\n",
       "    </tr>\n",
       "  </tbody>\n",
       "</table>\n",
       "</div>"
      ],
      "text/plain": [
       "   delivery_id  customer_id order_date customer_pref_delivery_date\n",
       "0            1            1 2019-08-01                  2019-08-02\n",
       "1            2            2 2019-08-02                  2019-08-02\n",
       "2            3            1 2019-08-11                  2019-08-12\n",
       "3            4            3 2019-08-24                  2019-08-24\n",
       "4            5            3 2019-08-21                  2019-08-22\n",
       "5            6            2 2019-08-11                  2019-08-13\n",
       "6            7            4 2019-08-09                  2019-08-09"
      ]
     },
     "execution_count": 9,
     "metadata": {},
     "output_type": "execute_result"
    }
   ],
   "source": [
    "delivery_id = [1,2,3,4,5,6,7]\n",
    "customer_id = [1,2,1,3,3,2,4]\n",
    "order_date = ['2019-08-01', '2019-08-02', '2019-08-11', '2019-08-24', '2019-08-21', '2019-08-11', '2019-08-09']\n",
    "customer_pref_delivery_date = ['2019-08-02', '2019-08-02', '2019-08-12', '2019-08-24', '2019-08-22', '2019-08-13', '2019-08-09']\n",
    "delivery = pd.DataFrame({'delivery_id': delivery_id,'customer_id': customer_id, 'order_date': order_date, 'customer_pref_delivery_date':customer_pref_delivery_date})\n",
    "delivery['order_date'] = pd.to_datetime(delivery['order_date'], format=\"%Y-%m-%d\")\n",
    "delivery['customer_pref_delivery_date'] = pd.to_datetime(delivery['customer_pref_delivery_date'], format=\"%Y-%m-%d\")\n",
    "delivery"
   ]
  },
  {
   "cell_type": "code",
   "execution_count": 10,
   "metadata": {},
   "outputs": [
    {
     "data": {
      "text/plain": [
       "0"
      ]
     },
     "execution_count": 10,
     "metadata": {},
     "output_type": "execute_result"
    }
   ],
   "source": [
    "immediate_food_delivery(delivery)"
   ]
  },
  {
   "cell_type": "markdown",
   "metadata": {},
   "source": [
    "for pulling testing\n"
   ]
  }
 ],
 "metadata": {
  "kernelspec": {
   "display_name": "Python 3",
   "language": "python",
   "name": "python3"
  },
  "language_info": {
   "codemirror_mode": {
    "name": "ipython",
    "version": 3
   },
   "file_extension": ".py",
   "mimetype": "text/x-python",
   "name": "python",
   "nbconvert_exporter": "python",
   "pygments_lexer": "ipython3",
   "version": "3.12.1"
  }
 },
 "nbformat": 4,
 "nbformat_minor": 2
}
