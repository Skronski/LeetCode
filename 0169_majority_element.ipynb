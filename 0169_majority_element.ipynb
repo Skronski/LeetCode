{
 "cells": [
  {
   "cell_type": "markdown",
   "metadata": {},
   "source": [
    "## 169. Majority Element  \n",
    "\n",
    "Given an array nums of size `n`, return the majority element.  \n",
    "\n",
    "The majority element is the element that appears more than **⌊n / 2⌋** times.   \n",
    "You may assume that the majority element always exists in the array.  \n",
    "\n",
    " \n",
    "\n",
    "**Example 1:**  \n",
    "  \n",
    "\n",
    "**Input**: nums = [3,2,3]  \n",
    "**Output**: 3  \n",
    "**Example 2**:  \n",
    "  \n",
    "**Input**: nums = [2,2,1,1,1,2,2]  \n",
    "**Output**: 2  "
   ]
  },
  {
   "cell_type": "code",
   "execution_count": 28,
   "metadata": {},
   "outputs": [],
   "source": [
    "class Solution(object):\n",
    "    def majorityElement(self, nums):\n",
    "        \"\"\"\n",
    "        :type nums: List[int]\n",
    "        :rtype: int\n",
    "        \"\"\"\n",
    "        my_dict = {key: 0 for key in set(nums)}\n",
    "        for i in nums:\n",
    "            my_dict[i] += 1\n",
    "        for key, val in my_dict.items():\n",
    "            if val > len(nums) / 2:\n",
    "                return key\n",
    "        return None"
   ]
  },
  {
   "cell_type": "code",
   "execution_count": 29,
   "metadata": {},
   "outputs": [
    {
     "name": "stdout",
     "output_type": "stream",
     "text": [
      "for key: 1 we have value: 2\n",
      "for key: 11 we have value: 11\n"
     ]
    }
   ],
   "source": [
    "solution = Solution()\n",
    "majoirity = solution.majorityElement(\n",
    "    nums=[11, 1, 1, 11, 111, 11, 11, 11, 11, 11, 11, 11, 11, 11]\n",
    ")"
   ]
  },
  {
   "cell_type": "code",
   "execution_count": 30,
   "metadata": {},
   "outputs": [
    {
     "name": "stdout",
     "output_type": "stream",
     "text": [
      "11\n"
     ]
    }
   ],
   "source": [
    "print(majoirity)"
   ]
  },
  {
   "cell_type": "code",
   "execution_count": null,
   "metadata": {},
   "outputs": [],
   "source": []
  }
 ],
 "metadata": {
  "kernelspec": {
   "display_name": "Python 3",
   "language": "python",
   "name": "python3"
  },
  "language_info": {
   "codemirror_mode": {
    "name": "ipython",
    "version": 3
   },
   "file_extension": ".py",
   "mimetype": "text/x-python",
   "name": "python",
   "nbconvert_exporter": "python",
   "pygments_lexer": "ipython3",
   "version": "3.9.6"
  }
 },
 "nbformat": 4,
 "nbformat_minor": 2
}
